{
 "cells": [
  {
   "cell_type": "markdown",
   "metadata": {},
   "source": [
    "# Ejercicio: Uso de funciones en Python\n",
    "Ejercicio 1: Trabajar con argumentos en funciones\n",
    "\n",
    "En este ejercicio, construirás un informe de combustible que requiere información de varias ubicaciones de combustible en todo el cohete.  \n",
    "Comienza por crear una función que necesite tres lecturas de combustible y devuelva un informe:"
   ]
  },
  {
   "cell_type": "code",
   "execution_count": 27,
   "metadata": {},
   "outputs": [],
   "source": [
    "def combustibles(tanque1, tanque2, tanque3):\n",
    "    prom= (tanque1+tanque2+tanque3)/3\n",
    "    return f\"\"\"Nivel tanque 1: {tanque1}\n",
    "    \\nNivel tanque 2: {tanque2}\n",
    "    \\nNivel tanque 3: {tanque3}\n",
    "    \\n<Promedio: {prom}\"\"\"\n",
    "    "
   ]
  },
  {
   "cell_type": "markdown",
   "metadata": {},
   "source": [
    "Ahora que hemos definido la función de informes, vamos a comprobarlo. Para esta misión, los tanques no están llenos:"
   ]
  },
  {
   "cell_type": "code",
   "execution_count": 28,
   "metadata": {},
   "outputs": [
    {
     "name": "stdout",
     "output_type": "stream",
     "text": [
      "Nivel tanque 1: 0\n",
      "    \n",
      "Nivel tanque 2: 0\n",
      "    \n",
      "Nivel tanque 3: 0\n",
      "    \n",
      "<Promedio: 0.0\n"
     ]
    }
   ],
   "source": [
    "print(combustibles(0,0,0))"
   ]
  },
  {
   "cell_type": "markdown",
   "metadata": {},
   "source": [
    "En lugar de simplemente crear el informe, la función también está calculando el promedio. Mejora la legibilidad extrayendo el cálculo promedio de la función en una nueva función para que el promedio se pueda hacer de forma independiente:"
   ]
  },
  {
   "cell_type": "code",
   "execution_count": 29,
   "metadata": {},
   "outputs": [
    {
     "name": "stdout",
     "output_type": "stream",
     "text": [
      "Nivel promedio en tanques: 72.66666666666667 %\n"
     ]
    }
   ],
   "source": [
    "def prom_tanques(tanques):\n",
    "    return sum(tanques) / len(tanques)\n",
    "print(f'Nivel promedio en tanques:',prom_tanques([90,50,78]),'%')"
   ]
  },
  {
   "cell_type": "markdown",
   "metadata": {},
   "source": [
    "Ahora actualiza la función de informes para llamando a la nueva función del promedio:"
   ]
  },
  {
   "cell_type": "code",
   "execution_count": 38,
   "metadata": {},
   "outputs": [
    {
     "name": "stdout",
     "output_type": "stream",
     "text": [
      "\n",
      "    Nivel tanque 1: 90 %\n",
      "    nNivel tanque 2: 50 %\n",
      "    Nivel tanque 3: 78 %\n",
      "    Promedio: 72.66666666666667 % \n"
     ]
    }
   ],
   "source": [
    "def combustibles(tanque1, tanque2, tanque3):\n",
    "    return f\"\"\"\n",
    "    Nivel tanque 1: {tanque1} %\n",
    "    nNivel tanque 2: {tanque2} %\n",
    "    Nivel tanque 3: {tanque3} %\n",
    "    Promedio: {prom_tanques([tanque1, tanque2, tanque3])} % \"\"\"\n",
    "\n",
    "print(combustibles(90,50,78))"
   ]
  },
  {
   "cell_type": "markdown",
   "metadata": {},
   "source": [
    "# Ejercicio 2: Trabajo con argumentos de palabra clave\n",
    "### Ejercicio : Trabajar con argumentos de palabras clave en funciones  \n",
    "En este ejercicio, construirás un informe de cohete que requiere varias piezas de información, como el tiempo hasta el destino, el combustible a la izquierda y el nombre del destino. Comienza por crear una función que creará un informe preciso de la misión:"
   ]
  },
  {
   "cell_type": "code",
   "execution_count": 52,
   "metadata": {},
   "outputs": [
    {
     "name": "stdout",
     "output_type": "stream",
     "text": [
      "\n",
      "            Destino de mision Marte\n",
      "            Tiempo de vuelo 50 minutos\n",
      "            Nivel de combustible 1500\n",
      "            \n"
     ]
    }
   ],
   "source": [
    "def report_cohete(prelanzamiento, tiempo_vuelo, destino, tanque_ext, tanque_int):\n",
    "    return f\"\"\"\n",
    "            Destino de mision {destino}\n",
    "            Tiempo de vuelo {prelanzamiento+tiempo_vuelo} minutos\n",
    "            Nivel de combustible {tanque_ext+tanque_int}\n",
    "            \"\"\"\n",
    "print(report_cohete(10,40,'Marte',500,1000))"
   ]
  },
  {
   "cell_type": "markdown",
   "metadata": {},
   "source": [
    "La función es problemática porque no se puede adaptar para minutos adicionales o tanques adicionales de combustible. Hazlo más flexible permitiendo cualquier número de pasos basados en el tiempo y cualquier número de tanques. En lugar de usar *args y **kwargs, aprovecha el hecho de que puedes usar cualquier nombre que desees. Asegurate que la función sea más legible mediante el uso de nombres de variables que están asociados con las entradas, como *minutes y **fuel_reservoirs:"
   ]
  },
  {
   "cell_type": "code",
   "execution_count": 53,
   "metadata": {},
   "outputs": [
    {
     "name": "stdout",
     "output_type": "stream",
     "text": [
      "\n",
      "            Destino de mision Marte\n",
      "            Tiempo de vuelo 43 minutos\n",
      "            Nivel de combustible 1500\n",
      "            \n"
     ]
    }
   ],
   "source": [
    "def report_cohete(destino,*minutos, **fuel_reservoirs):\n",
    "    return f\"\"\"\n",
    "            Destino de mision {destino}\n",
    "            Tiempo de vuelo {sum(minutos)} minutos\n",
    "            Nivel de combustible {sum(fuel_reservoirs.values())}\n",
    "            \"\"\"\n",
    "print(report_cohete(\"Marte\",10,15,18,inter=500, ext=1000))"
   ]
  },
  {
   "cell_type": "markdown",
   "metadata": {},
   "source": [
    "Debido a que el combustible que queda en los tanques es específico de cada tanque, actualiza la función para usar el nombre de cada tanque en el informe:"
   ]
  },
  {
   "cell_type": "code",
   "execution_count": 71,
   "metadata": {},
   "outputs": [
    {
     "name": "stdout",
     "output_type": "stream",
     "text": [
      "\n",
      "        Destino de mision Marte\n",
      "        Tiempo de vuelo 43 minutos\n",
      "        Nivel de combustible 1500\n",
      "        Nivel de tanque interno= 500,  Nivel de tanque externo= 1000,  \n"
     ]
    }
   ],
   "source": [
    "def report_cohete(destino,*minutos, **fuel_reservoirs):\n",
    "    \n",
    "    reporte=f\"\"\"\n",
    "        Destino de mision {destino}\n",
    "        Tiempo de vuelo {sum(minutos)} minutos\n",
    "        Nivel de combustible {sum(fuel_reservoirs.values())}\n",
    "        \"\"\"\n",
    "    for nameTan, valor in fuel_reservoirs.items():\n",
    "        reporte= reporte + f'Nivel de tanque {nameTan}= {valor},  '\n",
    "    return reporte\n",
    "print(report_cohete(\"Marte\",10,15,18,interno=500, externo=1000))"
   ]
  }
 ],
 "metadata": {
  "interpreter": {
   "hash": "368a99f1af48bba66d5cb626b33c66ac50a579535864c464381038287c63a434"
  },
  "kernelspec": {
   "display_name": "Python 3.10.2 64-bit",
   "language": "python",
   "name": "python3"
  },
  "language_info": {
   "codemirror_mode": {
    "name": "ipython",
    "version": 3
   },
   "file_extension": ".py",
   "mimetype": "text/x-python",
   "name": "python",
   "nbconvert_exporter": "python",
   "pygments_lexer": "ipython3",
   "version": "3.10.2"
  },
  "orig_nbformat": 4
 },
 "nbformat": 4,
 "nbformat_minor": 2
}
