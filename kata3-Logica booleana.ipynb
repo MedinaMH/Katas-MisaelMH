{
 "cells": [
  {
   "cell_type": "markdown",
   "metadata": {},
   "source": [
    "# Problema 1\n",
    "Para este ejercicio, escribirás una lógica condicional que imprima una advertencia si un asteroide se acerca a la Tierra demasiado rápido. La velocidad del asteroide varía dependiendo de lo cerca que esté del sol, y cualquier velocidad superior a 25 kilómetros por segundo (km/s) merece una advertencia.\n",
    "Un asteroide se acerca, y viaja a una velocidad de 49 km/s.\n",
    "\n",
    "-Añadir el código necesario para crear una variable que guarde la velocidad del asteroide.\n",
    "\n",
    "-Escribe una expresión de prueba para calcular si necesita una advertencia.\n",
    "\n",
    "-Agregue las instrucciones que se ejecutarán si la expresión de prueba es true o false."
   ]
  },
  {
   "cell_type": "code",
   "execution_count": 1,
   "metadata": {},
   "outputs": [
    {
     "name": "stdout",
     "output_type": "stream",
     "text": [
      "Peligro se aproxima un asteroide\n"
     ]
    }
   ],
   "source": [
    "speedAsteroide=49\n",
    "if speedAsteroide > 25:\n",
    "    print(\"Peligro se aproxima un asteroide\")\n",
    "else:\n",
    "    print(\"Todo en orden\")\n"
   ]
  },
  {
   "cell_type": "markdown",
   "metadata": {},
   "source": [
    "# Problema 2\n",
    "Si un asteroide entra en la atmósfera de la Tierra a una velocidad mayor o igual a 20 km/s, a veces produce un rayo de luz que se puede ver desde la Tierra. Escribe la lógica condicional que usa declaraciones if, else, y elif para alertar a las personas de todo el mundo que deben buscar un asteroide en el cielo. ¡Hay uno que se dirige a la tierra ahora a una velocidad de 19 km/s!\n",
    "\n",
    "-Agrega el código para crear una variable para un asteroide que viaja a 19 km/s\n",
    "\n",
    "-Escribe varias expresiones de prueba para determinar si puedes ver el rayo de luz desde la tierra\n",
    "\n",
    "-Agrega las instrucciones que se ejecutarán si las expresiones de prueba son True o False"
   ]
  },
  {
   "cell_type": "code",
   "execution_count": 12,
   "metadata": {},
   "outputs": [
    {
     "name": "stdout",
     "output_type": "stream",
     "text": [
      "No se ve ningun rayo\n"
     ]
    }
   ],
   "source": [
    "asteroide = 19\n",
    "\n",
    "if asteroide > 20:\n",
    "    print(\"Se puede ver un rayo de luz desde la tierra\")\n",
    "elif asteroide == 20:\n",
    "    print(\"Se puede ver un rayo de luz desde la tierraaaa\")\n",
    "else:\n",
    "    print(\"No se ve ningun rayo\")\n"
   ]
  },
  {
   "cell_type": "markdown",
   "metadata": {},
   "source": [
    "# Problema 3\n",
    "Agrega el código para crear nuevas variables para la velocidad y el tamaño del asteroide\n",
    "\n",
    "Para probar el código, prueba con varias velocidades y tamaños\n",
    "\n",
    "Escribe varias expresiones de prueba o combinaciones de expresiones de prueba para determinar qué mensaje se debe enviar a Tierra."
   ]
  },
  {
   "cell_type": "code",
   "execution_count": 28,
   "metadata": {},
   "outputs": [
    {
     "name": "stdout",
     "output_type": "stream",
     "text": [
      "No hay peligro\n"
     ]
    }
   ],
   "source": [
    "speedAsteroide=19\n",
    "sizeAsteroide= 25\n",
    "\n",
    "if speedAsteroide > 25 and sizeAsteroide > 25:\n",
    "    print(\"Peligro asteroide de mas de 25 m se aproxima a gran velocidad\")\n",
    "elif speedAsteroide >= 20:\n",
    "    print(\"Se puede ver un rayo de luz desde la tierra\")\n",
    "elif speedAsteroide < 20 and sizeAsteroide < 25:\n",
    "    print(\"Sin peligro alguno\")\n",
    "else:\n",
    "    print(\"No hay peligro\")"
   ]
  }
 ],
 "metadata": {
  "interpreter": {
   "hash": "368a99f1af48bba66d5cb626b33c66ac50a579535864c464381038287c63a434"
  },
  "kernelspec": {
   "display_name": "Python 3.10.2 64-bit",
   "language": "python",
   "name": "python3"
  },
  "language_info": {
   "codemirror_mode": {
    "name": "ipython",
    "version": 3
   },
   "file_extension": ".py",
   "mimetype": "text/x-python",
   "name": "python",
   "nbconvert_exporter": "python",
   "pygments_lexer": "ipython3",
   "version": "3.10.2"
  },
  "orig_nbformat": 4
 },
 "nbformat": 4,
 "nbformat_minor": 2
}
